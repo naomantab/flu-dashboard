{
 "cells": [
  {
   "cell_type": "code",
   "execution_count": 1,
   "id": "4d06a904-cbac-417b-b459-f3e8e3145747",
   "metadata": {},
   "outputs": [
    {
     "name": "stdout",
     "output_type": "stream",
     "text": [
      "--2024-10-25 13:14:51--  https://api.ukhsa-dashboard.data.gov.uk/themes/infectious_disease/sub_themes/respiratory/topics/Influenza/geography_types/Nation/geographies/England/metrics/influenza_healthcare_hospitalAdmissionRateByWeek\n",
      "Resolving api.ukhsa-dashboard.data.gov.uk (api.ukhsa-dashboard.data.gov.uk)... 108.138.217.42, 108.138.217.58, 108.138.217.88, ...\n",
      "Connecting to api.ukhsa-dashboard.data.gov.uk (api.ukhsa-dashboard.data.gov.uk)|108.138.217.42|:443... connected.\n",
      "HTTP request sent, awaiting response... 200 OK\n",
      "Length: 2234 (2.2K) [application/json]\n",
      "Saving to: ‘influenza_healthcare_hospitalAdmissionRateByWeek.3’\n",
      "\n",
      "influenza_healthcar 100%[===================>]   2.18K  --.-KB/s    in 0s      \n",
      "\n",
      "2024-10-25 13:14:51 (1.07 GB/s) - ‘influenza_healthcare_hospitalAdmissionRateByWeek.3’ saved [2234/2234]\n",
      "\n"
     ]
    }
   ],
   "source": [
    "# Will only work on the JHub or Unix-like systems;\n",
    "# saves data to the COVID-19_cases_casesByDay file\n",
    "\n",
    "!wget https://api.ukhsa-dashboard.data.gov.uk/themes/infectious_disease/sub_themes/respiratory/topics/Influenza/geography_types/Nation/geographies/England/metrics/influenza_healthcare_hospitalAdmissionRateByWeek"
   ]
  },
  {
   "cell_type": "code",
   "execution_count": 1,
   "id": "0dbb4508-fe5f-49d2-b8cb-f92c38263785",
   "metadata": {},
   "outputs": [],
   "source": [
    "#!cat influenza_healthcare_hospitalAdmissionRateByWeek"
   ]
  },
  {
   "cell_type": "code",
   "execution_count": 3,
   "id": "31dc4322-44a4-4f52-b258-ee026381241d",
   "metadata": {},
   "outputs": [],
   "source": [
    "import requests\n",
    "\n",
    "# requests.get(\"https://api.ukhsa-dashboard.data.gov.uk/themes/infectious_disease/sub_themes/respiratory/topics/Influenza/geography_types/Nation/geographies/England/metrics/influenza_healthcare_hospitalAdmissionRateByWeek\",\n",
    "            # params={'year': 2024, 'page_size': 3, 'page': 1}).json()"
   ]
  },
  {
   "cell_type": "code",
   "execution_count": 15,
   "id": "cef8a818-0944-4f52-ab58-bc1f833b4088",
   "metadata": {},
   "outputs": [],
   "source": [
    "import requests\n",
    "import time\n",
    "\n",
    "class APIwrapper:\n",
    "    # class variables shared among all instances\n",
    "    _access_point=\"https://api.ukhsa-dashboard.data.gov.uk\"\n",
    "    # time of last api access\n",
    "    _last_access=0.0 \n",
    "\n",
    "    def __init__(self, theme, sub_theme, topic, geography_type, geography, metric):\n",
    "        \"\"\" Init the APIwrapper object, constructing the endpoint from the structure\n",
    "        parameters \"\"\"\n",
    "        # build the path with all the required structure parameters\n",
    "        url_path=(f\"/themes/{theme}/sub_themes/{sub_theme}/topics/{topic}/geography_types/\" +\n",
    "                  f\"{geography_type}/geographies/{geography}/metrics/{metric}\")\n",
    "        # our starting API endpoint\n",
    "        self._start_url=APIwrapper._access_point+url_path\n",
    "        self._filters=None\n",
    "        self._page_size=-1\n",
    "        # will contain the number of items\n",
    "        self.count=None\n",
    "\n",
    "    def get_page(self, filters={}, page_size=5):\n",
    "        \"\"\" Access the API and download the next page of data. Sets the count\n",
    "        attribute to the total number of items available for this query. Changing\n",
    "        filters or page_size will cause get_page to restart from page 1. Rate\n",
    "        limited to three request per second. The page_size parameter sets the number\n",
    "        of data points in one response page (maximum 365); use the default value \n",
    "        for debugging your structure and filters, increase when you start looping \n",
    "        over all pages. \"\"\"\n",
    "        # Check page size is within range\n",
    "        if page_size>365:\n",
    "            raise ValueError(\"Max supported page size is 365\")\n",
    "        # restart from first page if page or filters have changed\n",
    "        if filters!=self._filters or page_size!=self._page_size:\n",
    "            self._filters=filters\n",
    "            self._page_size=page_size\n",
    "            self._next_url=self._start_url\n",
    "        # signal the end of data condition\n",
    "        if self._next_url==None: \n",
    "            return [] # we already fetched the last page\n",
    "        # simple rate limiting to avoid bans\n",
    "        curr_time=time.time() # Unix time: number of seconds since the Epoch\n",
    "        deltat=curr_time-APIwrapper._last_access\n",
    "        if deltat<0.33: # max 3 requests/second\n",
    "            time.sleep(0.33-deltat)\n",
    "        APIwrapper._last_access=curr_time\n",
    "        # build parameter dictionary by removing all the None\n",
    "        # values from filters and adding page_size\n",
    "        parameters={x: y for x, y in filters.items() if y!=None}\n",
    "        parameters['page_size']=page_size\n",
    "        # the page parameter is already included in _next_url.\n",
    "        # This is the API access. Response is a dictionary with various keys.\n",
    "        # the .json() method decodes the response into Python object (dictionaries,\n",
    "        # lists; 'null' values are translated as None).\n",
    "        response = requests.get(self._next_url, params=parameters).json()\n",
    "        # update url so we'll fetch the next page\n",
    "        self._next_url=response['next']\n",
    "        self.count=response['count']\n",
    "        # data are in the nested 'results' list\n",
    "        return response['results'] "
   ]
  },
  {
   "cell_type": "code",
   "execution_count": 16,
   "id": "70bcb300-b4f1-49a9-86e5-1005c048357a",
   "metadata": {},
   "outputs": [],
   "source": [
    "structure={\"theme\": \"infectious_disease\", \n",
    "           \"sub_theme\": \"respiratory\",\n",
    "           \"topic\": \"Influenza\",\n",
    "           \"geography_type\": \"Nation\", \n",
    "           \"geography\": \"England\"}"
   ]
  },
  {
   "cell_type": "code",
   "execution_count": 17,
   "id": "b9f58628-3cf6-4b5e-a62c-a76a665295b4",
   "metadata": {},
   "outputs": [],
   "source": [
    "structure[\"metric\"]=\"influenza_healthcare_hospitalAdmissionRateByWeek\" "
   ]
  },
  {
   "cell_type": "code",
   "execution_count": 18,
   "id": "69de94b9-b988-4725-99f4-dc8a2917c515",
   "metadata": {},
   "outputs": [],
   "source": [
    "#** unpacks the structure dictionary over the __init__ arguments\n",
    "api=APIwrapper(**structure)\n",
    "data=api.get_page() # default size is 5\n",
    "# print(api.count)\n",
    "# print(data)"
   ]
  },
  {
   "cell_type": "code",
   "execution_count": 19,
   "id": "72c11ed9-8de3-42dc-b773-4e81556a55d6",
   "metadata": {},
   "outputs": [],
   "source": [
    "# Let's filter for the year 2024.\n",
    "# None values will be ignored by the APIwrapper\n",
    "\n",
    "filters={\"stratum\" : None, # Smallest subgroup a metric can be broken down into e.g. ethnicity, testing pillar\n",
    "         \"age\": None, # Smallest subgroup a metric can be broken down into e.g. 15_44 for the age group of 15-44 years\n",
    "         \"sex\": None, #  Patient gender e.g. 'm' for Male, 'f' for Female or 'all' for all genders\n",
    "         \"year\": 2024, #  Epi year of the metrics value (important for annual metrics) e.g. 2020\n",
    "         \"month\": None, # Epi month of the metric value (important for monthly metrics) e.g. 12\n",
    "         \"epiweek\" :None, # Epi week of the metric value (important for weekly metrics) e.g. 30\n",
    "         \"date\" : None, # The date which this metric value was recorded in the format YYYY-MM-DD e.g. 2020-07-20\n",
    "         \"in_reporting_delay_period\": None # Boolean indicating whether the data point is considered to be subject to retrospective updates\n",
    "        }"
   ]
  },
  {
   "cell_type": "code",
   "execution_count": 21,
   "id": "b143d9b3-1822-4e87-8925-04831e1f395f",
   "metadata": {},
   "outputs": [],
   "source": [
    "data_2024=api.get_page(filters, page_size=3)\n",
    "# print(api.count)\n",
    "# print(data_2024)"
   ]
  },
  {
   "cell_type": "code",
   "execution_count": 22,
   "id": "83c5bbe0-0991-4032-b045-d3906790a927",
   "metadata": {},
   "outputs": [
    {
     "name": "stdout",
     "output_type": "stream",
     "text": [
      "Pages retrieved: 1\n",
      "Pages retrieved: 2\n",
      "Pages retrieved: 3\n",
      "Pages retrieved: 4\n",
      "Pages retrieved: 5\n",
      "Pages retrieved: 6\n",
      "Pages retrieved: 7\n",
      "Pages retrieved: 8\n"
     ]
    }
   ],
   "source": [
    "#\n",
    "structure[\"metric\"]=\"influenza_healthcare_hospitalAdmissionRateByWeek\" \n",
    "\n",
    "api=APIwrapper(**structure)\n",
    "cases_hosp=[]\n",
    "page=1\n",
    "while True:\n",
    "    data=api.get_page(page_size=365)\n",
    "    print(f\"Pages retrieved: {page}\")\n",
    "    if data==[]:\n",
    "        break\n",
    "    cases_hosp.extend(data)\n",
    "    page+=1\n",
    "# print(f\"Data points expected: {api.count}\")\n",
    "# print(f\"Data points retrieved: {len(cases_hosp)}\")"
   ]
  },
  {
   "cell_type": "code",
   "execution_count": 23,
   "id": "4782c201-e373-4fb7-a245-7ed30d41d5fb",
   "metadata": {},
   "outputs": [
    {
     "name": "stdout",
     "output_type": "stream",
     "text": [
      "Pages retrieved: 1\n",
      "Pages retrieved: 2\n",
      "Pages retrieved: 3\n",
      "Pages retrieved: 4\n",
      "Pages retrieved: 5\n",
      "Pages retrieved: 6\n",
      "Pages retrieved: 7\n",
      "Pages retrieved: 8\n"
     ]
    }
   ],
   "source": [
    "structure[\"metric\"]=\"influenza_healthcare_ICUHDUadmissionRateByWeek\" \n",
    "\n",
    "api=APIwrapper(**structure)\n",
    "cases_ICU=[]\n",
    "page=1\n",
    "while True:\n",
    "    data=api.get_page(page_size=365)\n",
    "    print(f\"Pages retrieved: {page}\")\n",
    "    if data==[]:\n",
    "        break\n",
    "    cases_ICU.extend(data)\n",
    "    page+=1\n",
    "# print(f\"Data points expected: {api.count}\")\n",
    "# print(f\"Data points retrieved: {len(cases_ICU)}\")"
   ]
  },
  {
   "cell_type": "code",
   "execution_count": 24,
   "id": "d0c07d45-4ceb-4a8a-b3fd-a8225ab8ab63",
   "metadata": {},
   "outputs": [
    {
     "name": "stdout",
     "output_type": "stream",
     "text": [
      "Pages retrieved: 1\n",
      "Pages retrieved: 2\n",
      "Pages retrieved: 3\n",
      "Pages retrieved: 4\n",
      "Pages retrieved: 5\n",
      "Pages retrieved: 6\n",
      "Pages retrieved: 7\n",
      "Pages retrieved: 8\n",
      "Pages retrieved: 9\n",
      "Pages retrieved: 10\n"
     ]
    }
   ],
   "source": [
    "structure[\"metric\"]=\"influenza_testing_positivityByWeek\" \n",
    "\n",
    "api=APIwrapper(**structure)\n",
    "cases_poswk=[]\n",
    "page=1\n",
    "while True:\n",
    "    data=api.get_page(page_size=365)\n",
    "    print(f\"Pages retrieved: {page}\")\n",
    "    if data==[]:\n",
    "        break\n",
    "    cases_poswk.extend(data)\n",
    "    page+=1\n",
    "# print(f\"Data points expected: {api.count}\")\n",
    "# print(f\"Data points retrieved: {len(cases_poswk)}\")"
   ]
  },
  {
   "cell_type": "code",
   "execution_count": 26,
   "id": "e52ea575-53fd-4707-9e5b-c719b9d4e36a",
   "metadata": {},
   "outputs": [],
   "source": [
    "import json"
   ]
  },
  {
   "cell_type": "code",
   "execution_count": 27,
   "id": "008673c7-103b-4a78-bd6c-5eff046a2386",
   "metadata": {},
   "outputs": [],
   "source": [
    "with open(\"cases_hosp.json\", \"wt\") as OUTF:\n",
    "    json.dump(cases_hosp, OUTF)"
   ]
  },
  {
   "cell_type": "code",
   "execution_count": 28,
   "id": "2e2ff18a-667a-44d6-b6e4-c5b903a41dcd",
   "metadata": {},
   "outputs": [],
   "source": [
    "with open(\"cases_ICU.json\", \"wt\") as OUTF:\n",
    "    json.dump(cases_ICU, OUTF)"
   ]
  },
  {
   "cell_type": "code",
   "execution_count": 29,
   "id": "7c4da0a8-9c3a-42b9-824d-bb687f6109e1",
   "metadata": {},
   "outputs": [],
   "source": [
    "with open(\"cases_poswk.json\", \"wt\") as OUTF:\n",
    "    json.dump(cases_poswk, OUTF)"
   ]
  },
  {
   "cell_type": "code",
   "execution_count": 30,
   "id": "d03c614a-07b9-4573-a5ec-1fad86a91c8e",
   "metadata": {},
   "outputs": [],
   "source": [
    "import pandas as pd\n",
    "import matplotlib.pyplot as plt\n",
    "import matplotlib.dates as mdates\n",
    "import json"
   ]
  },
  {
   "cell_type": "code",
   "execution_count": 31,
   "id": "0983a08e-6737-40ab-855d-852442741fc8",
   "metadata": {},
   "outputs": [],
   "source": [
    "# an iPython  \"magic\" that enables the embedding of matplotlib output\n",
    "%matplotlib inline\n",
    "# make figures larger\n",
    "plt.rcParams['figure.dpi'] = 100"
   ]
  },
  {
   "cell_type": "code",
   "execution_count": 32,
   "id": "6fa7e0e0-5c49-4025-af3f-e38040514c44",
   "metadata": {},
   "outputs": [],
   "source": [
    "with open(\"cases_hosp.json\", \"rt\") as INFILE:\n",
    "    cases_hosp=json.load(INFILE)\n",
    "with open(\"cases_ICU.json\", \"rt\") as INFILE:\n",
    "    cases_ICU=json.load(INFILE)\n",
    "with open(\"cases_poswk.json\", \"rt\") as INFILE:\n",
    "    cases_poswk=json.load(INFILE)"
   ]
  },
  {
   "cell_type": "code",
   "execution_count": 33,
   "id": "88fea5bb-bd2f-4366-a5ea-9bca09162488",
   "metadata": {},
   "outputs": [],
   "source": [
    "#cases_hosp[:5]"
   ]
  },
  {
   "cell_type": "code",
   "execution_count": 34,
   "id": "d7b3ef3c-7692-4e54-a661-4ccba2f021ae",
   "metadata": {},
   "outputs": [],
   "source": [
    "data1={}\n",
    "for dataset in [cases_ICU, cases_hosp, cases_poswk]:\n",
    "    for entry in dataset:\n",
    "        age=entry['age']\n",
    "        metric=entry['metric']\n",
    "        value=entry['metric_value']\n",
    "        if age not in data1:\n",
    "            data1[age]={}\n",
    "        data1[age][metric]=value\n"
   ]
  },
  {
   "cell_type": "code",
   "execution_count": 35,
   "id": "71cbf6ad-55dc-4e57-a036-2df5074d980a",
   "metadata": {},
   "outputs": [],
   "source": [
    "def sortkey(interval):\n",
    "    start=interval\n",
    "    if '-' in interval:\n",
    "        interval=interval.split('-')[-1]\n",
    "    if '+' in interval:\n",
    "        interval=interval.replace('+', '')\n",
    "        interval=int(interval)+1\n",
    "    else:\n",
    "        interval=int(interval)\n",
    "    #print(f\"{start}->{interval}\")\n",
    "    return interval"
   ]
  },
  {
   "cell_type": "code",
   "execution_count": 36,
   "id": "0bd0382e-4782-48c2-b111-3fa56190f929",
   "metadata": {},
   "outputs": [],
   "source": [
    "ages=list(data1.keys())\n",
    "ages.remove('all')\n",
    "ages.sort(key=sortkey)\n"
   ]
  },
  {
   "cell_type": "code",
   "execution_count": 37,
   "id": "50195fbf-0f5b-47a4-8e04-e6ab0c05e891",
   "metadata": {},
   "outputs": [],
   "source": [
    "def normalise(interval):\n",
    "    if '-' in interval:\n",
    "        interval=interval.split('-')\n",
    "        start=int(interval[0])\n",
    "        end=int(interval[1])\n",
    "        interval=f'{start:02d}-{end:02d}'\n",
    "    return interval\n",
    "\n",
    "newages=[]\n",
    "for x in ages:\n",
    "    y=normalise(x) \n",
    "    if y not in newages:\n",
    "        newages.append(y)\n"
   ]
  },
  {
   "cell_type": "code",
   "execution_count": 38,
   "id": "92931d57-8186-4265-b1cf-61596d605896",
   "metadata": {},
   "outputs": [
    {
     "data": {
      "text/html": [
       "<div>\n",
       "<style scoped>\n",
       "    .dataframe tbody tr th:only-of-type {\n",
       "        vertical-align: middle;\n",
       "    }\n",
       "\n",
       "    .dataframe tbody tr th {\n",
       "        vertical-align: top;\n",
       "    }\n",
       "\n",
       "    .dataframe thead th {\n",
       "        text-align: right;\n",
       "    }\n",
       "</style>\n",
       "<table border=\"1\" class=\"dataframe\">\n",
       "  <thead>\n",
       "    <tr style=\"text-align: right;\">\n",
       "      <th></th>\n",
       "      <th>cases_hosp</th>\n",
       "      <th>cases_ICU</th>\n",
       "      <th>cases_poswk</th>\n",
       "    </tr>\n",
       "  </thead>\n",
       "  <tbody>\n",
       "    <tr>\n",
       "      <th>00-04</th>\n",
       "      <td>NaN</td>\n",
       "      <td>NaN</td>\n",
       "      <td>NaN</td>\n",
       "    </tr>\n",
       "    <tr>\n",
       "      <th>05-14</th>\n",
       "      <td>NaN</td>\n",
       "      <td>NaN</td>\n",
       "      <td>NaN</td>\n",
       "    </tr>\n",
       "    <tr>\n",
       "      <th>15-44</th>\n",
       "      <td>NaN</td>\n",
       "      <td>NaN</td>\n",
       "      <td>NaN</td>\n",
       "    </tr>\n",
       "    <tr>\n",
       "      <th>45-54</th>\n",
       "      <td>NaN</td>\n",
       "      <td>NaN</td>\n",
       "      <td>NaN</td>\n",
       "    </tr>\n",
       "    <tr>\n",
       "      <th>55-64</th>\n",
       "      <td>NaN</td>\n",
       "      <td>NaN</td>\n",
       "      <td>NaN</td>\n",
       "    </tr>\n",
       "    <tr>\n",
       "      <th>45-64</th>\n",
       "      <td>NaN</td>\n",
       "      <td>NaN</td>\n",
       "      <td>NaN</td>\n",
       "    </tr>\n",
       "    <tr>\n",
       "      <th>65</th>\n",
       "      <td>NaN</td>\n",
       "      <td>NaN</td>\n",
       "      <td>NaN</td>\n",
       "    </tr>\n",
       "    <tr>\n",
       "      <th>65+</th>\n",
       "      <td>NaN</td>\n",
       "      <td>NaN</td>\n",
       "      <td>NaN</td>\n",
       "    </tr>\n",
       "    <tr>\n",
       "      <th>65-74</th>\n",
       "      <td>NaN</td>\n",
       "      <td>NaN</td>\n",
       "      <td>NaN</td>\n",
       "    </tr>\n",
       "    <tr>\n",
       "      <th>65-79</th>\n",
       "      <td>NaN</td>\n",
       "      <td>NaN</td>\n",
       "      <td>NaN</td>\n",
       "    </tr>\n",
       "    <tr>\n",
       "      <th>80+</th>\n",
       "      <td>NaN</td>\n",
       "      <td>NaN</td>\n",
       "      <td>NaN</td>\n",
       "    </tr>\n",
       "    <tr>\n",
       "      <th>75-84</th>\n",
       "      <td>NaN</td>\n",
       "      <td>NaN</td>\n",
       "      <td>NaN</td>\n",
       "    </tr>\n",
       "    <tr>\n",
       "      <th>85</th>\n",
       "      <td>NaN</td>\n",
       "      <td>NaN</td>\n",
       "      <td>NaN</td>\n",
       "    </tr>\n",
       "    <tr>\n",
       "      <th>85+</th>\n",
       "      <td>NaN</td>\n",
       "      <td>NaN</td>\n",
       "      <td>NaN</td>\n",
       "    </tr>\n",
       "  </tbody>\n",
       "</table>\n",
       "</div>"
      ],
      "text/plain": [
       "      cases_hosp cases_ICU cases_poswk\n",
       "00-04        NaN       NaN         NaN\n",
       "05-14        NaN       NaN         NaN\n",
       "15-44        NaN       NaN         NaN\n",
       "45-54        NaN       NaN         NaN\n",
       "55-64        NaN       NaN         NaN\n",
       "45-64        NaN       NaN         NaN\n",
       "65           NaN       NaN         NaN\n",
       "65+          NaN       NaN         NaN\n",
       "65-74        NaN       NaN         NaN\n",
       "65-79        NaN       NaN         NaN\n",
       "80+          NaN       NaN         NaN\n",
       "75-84        NaN       NaN         NaN\n",
       "85           NaN       NaN         NaN\n",
       "85+          NaN       NaN         NaN"
      ]
     },
     "execution_count": 38,
     "metadata": {},
     "output_type": "execute_result"
    }
   ],
   "source": [
    "#index=pd.date_range(startdate, enddate, freq='D')\n",
    "agedf=pd.DataFrame(index=newages, columns=['cases_hosp', 'cases_ICU', 'cases_poswk'])\n",
    "agedf"
   ]
  },
  {
   "cell_type": "code",
   "execution_count": 39,
   "id": "cc8c5320-f98f-488e-ba52-a420714ef790",
   "metadata": {},
   "outputs": [],
   "source": [
    "# translate the columns to our metrics\n",
    "metrics ={'cases_hosp': 'influenza_healthcare_hospitalAdmissionRateByWeek',\n",
    "          'cases_ICU': 'influenza_healthcare_ICUHDUadmissionRateByWeek',\n",
    "          'cases_poswk': 'influenza_testing_positivityByWeek'}\n",
    "\n",
    "for age, entry in data1.items(): # each entry is a dictionary with cases, admissions and deaths\n",
    "    #pd_age=parse_age(age) # convert to Pandas format\n",
    "    for column in ['cases_hosp', 'cases_ICU', 'cases_poswk']: \n",
    "        metric_name=metrics[column]\n",
    "        # do not assume all values are there for every date - if a value is not available, insert a 0.0\n",
    "        value= entry.get(metric_name, 0.0)\n",
    "        # this is the way you access a specific location in the dataframe - use .loc\n",
    "        # and put index,column in a single set of [ ]\n",
    "        agedf.loc[normalise(age), column]=value\n",
    "            \n",
    "# fill in any remaining \"holes\" due to missing dates\n",
    "agedf.fillna(0.0, inplace=True)\n",
    "            \n",
    "# agedf"
   ]
  },
  {
   "cell_type": "code",
   "execution_count": 40,
   "id": "b1a90f31-98bd-44d8-91c2-f64612a91717",
   "metadata": {},
   "outputs": [
    {
     "data": {
      "image/png": "[encoded data removed]",
      "text/plain": [
       "<Figure size 640x480 with 1 Axes>"
      ]
     },
     "metadata": {},
     "output_type": "display_data"
    }
   ],
   "source": [
    "ax = agedf.plot(kind='bar')"
   ]
  },
  {
   "cell_type": "code",
   "execution_count": 41,
   "id": "3b9652bc-55dc-49f0-9ec6-709f0ba9bce5",
   "metadata": {},
   "outputs": [],
   "source": [
    "data={}\n",
    "for dataset in [cases_ICU, cases_hosp, cases_poswk]:\n",
    "    for entry in dataset:\n",
    "        date=entry['date']\n",
    "        metric=entry['metric']\n",
    "        value=entry['metric_value']\n",
    "        if date not in data:\n",
    "            data[date]={}\n",
    "        data[date][metric]=value\n"
   ]
  },
  {
   "cell_type": "code",
   "execution_count": 42,
   "id": "bce65365-7024-4936-9c63-125330daa541",
   "metadata": {},
   "outputs": [],
   "source": [
    "dates=list(data.keys())\n",
    "dates.sort()\n"
   ]
  },
  {
   "cell_type": "code",
   "execution_count": 43,
   "id": "a303a82c-f144-4dde-a1d6-5830f452b1b5",
   "metadata": {},
   "outputs": [],
   "source": [
    "def parse_date(datestring):\n",
    "    \"\"\" Convert a date string into a pandas datetime object \"\"\"\n",
    "    return pd.to_datetime(datestring, format=\"%Y-%m-%d\")"
   ]
  },
  {
   "cell_type": "code",
   "execution_count": 44,
   "id": "32113e5f-ff43-49a2-b6c9-2a7303ad35cb",
   "metadata": {},
   "outputs": [
    {
     "name": "stdout",
     "output_type": "stream",
     "text": [
      "2015-06-29 00:00:00  to  2024-10-14 00:00:00\n"
     ]
    }
   ],
   "source": [
    "startdate=parse_date(dates[0])\n",
    "enddate=parse_date(dates[-1])\n",
    "print (startdate, ' to ', enddate)"
   ]
  },
  {
   "cell_type": "code",
   "execution_count": 45,
   "id": "bd198bf5-b798-4b77-bea6-d93ea96751d2",
   "metadata": {},
   "outputs": [
    {
     "data": {
      "text/html": [
       "<div>\n",
       "<style scoped>\n",
       "    .dataframe tbody tr th:only-of-type {\n",
       "        vertical-align: middle;\n",
       "    }\n",
       "\n",
       "    .dataframe tbody tr th {\n",
       "        vertical-align: top;\n",
       "    }\n",
       "\n",
       "    .dataframe thead th {\n",
       "        text-align: right;\n",
       "    }\n",
       "</style>\n",
       "<table border=\"1\" class=\"dataframe\">\n",
       "  <thead>\n",
       "    <tr style=\"text-align: right;\">\n",
       "      <th></th>\n",
       "      <th>cases_hosp</th>\n",
       "      <th>cases_ICU</th>\n",
       "      <th>cases_poswk</th>\n",
       "    </tr>\n",
       "  </thead>\n",
       "  <tbody>\n",
       "    <tr>\n",
       "      <th>2015-06-29</th>\n",
       "      <td>NaN</td>\n",
       "      <td>NaN</td>\n",
       "      <td>NaN</td>\n",
       "    </tr>\n",
       "    <tr>\n",
       "      <th>2015-06-30</th>\n",
       "      <td>NaN</td>\n",
       "      <td>NaN</td>\n",
       "      <td>NaN</td>\n",
       "    </tr>\n",
       "    <tr>\n",
       "      <th>2015-07-01</th>\n",
       "      <td>NaN</td>\n",
       "      <td>NaN</td>\n",
       "      <td>NaN</td>\n",
       "    </tr>\n",
       "    <tr>\n",
       "      <th>2015-07-02</th>\n",
       "      <td>NaN</td>\n",
       "      <td>NaN</td>\n",
       "      <td>NaN</td>\n",
       "    </tr>\n",
       "    <tr>\n",
       "      <th>2015-07-03</th>\n",
       "      <td>NaN</td>\n",
       "      <td>NaN</td>\n",
       "      <td>NaN</td>\n",
       "    </tr>\n",
       "    <tr>\n",
       "      <th>...</th>\n",
       "      <td>...</td>\n",
       "      <td>...</td>\n",
       "      <td>...</td>\n",
       "    </tr>\n",
       "    <tr>\n",
       "      <th>2024-10-10</th>\n",
       "      <td>NaN</td>\n",
       "      <td>NaN</td>\n",
       "      <td>NaN</td>\n",
       "    </tr>\n",
       "    <tr>\n",
       "      <th>2024-10-11</th>\n",
       "      <td>NaN</td>\n",
       "      <td>NaN</td>\n",
       "      <td>NaN</td>\n",
       "    </tr>\n",
       "    <tr>\n",
       "      <th>2024-10-12</th>\n",
       "      <td>NaN</td>\n",
       "      <td>NaN</td>\n",
       "      <td>NaN</td>\n",
       "    </tr>\n",
       "    <tr>\n",
       "      <th>2024-10-13</th>\n",
       "      <td>NaN</td>\n",
       "      <td>NaN</td>\n",
       "      <td>NaN</td>\n",
       "    </tr>\n",
       "    <tr>\n",
       "      <th>2024-10-14</th>\n",
       "      <td>NaN</td>\n",
       "      <td>NaN</td>\n",
       "      <td>NaN</td>\n",
       "    </tr>\n",
       "  </tbody>\n",
       "</table>\n",
       "<p>3396 rows × 3 columns</p>\n",
       "</div>"
      ],
      "text/plain": [
       "           cases_hosp cases_ICU cases_poswk\n",
       "2015-06-29        NaN       NaN         NaN\n",
       "2015-06-30        NaN       NaN         NaN\n",
       "2015-07-01        NaN       NaN         NaN\n",
       "2015-07-02        NaN       NaN         NaN\n",
       "2015-07-03        NaN       NaN         NaN\n",
       "...               ...       ...         ...\n",
       "2024-10-10        NaN       NaN         NaN\n",
       "2024-10-11        NaN       NaN         NaN\n",
       "2024-10-12        NaN       NaN         NaN\n",
       "2024-10-13        NaN       NaN         NaN\n",
       "2024-10-14        NaN       NaN         NaN\n",
       "\n",
       "[3396 rows x 3 columns]"
      ]
     },
     "execution_count": 45,
     "metadata": {},
     "output_type": "execute_result"
    }
   ],
   "source": [
    "index=pd.date_range(startdate, enddate, freq='D')\n",
    "timeseriesdf=pd.DataFrame(index=index, columns=['cases_hosp', 'cases_ICU', 'cases_poswk'])\n",
    "timeseriesdf"
   ]
  },
  {
   "cell_type": "code",
   "execution_count": 46,
   "id": "6c6f5d14-310a-4587-a49f-8b05263c2c77",
   "metadata": {},
   "outputs": [
    {
     "name": "stderr",
     "output_type": "stream",
     "text": [
      "/tmp/ipykernel_701/1132758090.py:17: FutureWarning: Downcasting object dtype arrays on .fillna, .ffill, .bfill is deprecated and will change in a future version. Call result.infer_objects(copy=False) instead. To opt-in to the future behavior, set `pd.set_option('future.no_silent_downcasting', True)`\n",
      "  timeseriesdf.fillna(0.0, inplace=True)\n"
     ]
    },
    {
     "data": {
      "text/html": [
       "<div>\n",
       "<style scoped>\n",
       "    .dataframe tbody tr th:only-of-type {\n",
       "        vertical-align: middle;\n",
       "    }\n",
       "\n",
       "    .dataframe tbody tr th {\n",
       "        vertical-align: top;\n",
       "    }\n",
       "\n",
       "    .dataframe thead th {\n",
       "        text-align: right;\n",
       "    }\n",
       "</style>\n",
       "<table border=\"1\" class=\"dataframe\">\n",
       "  <thead>\n",
       "    <tr style=\"text-align: right;\">\n",
       "      <th></th>\n",
       "      <th>cases_hosp</th>\n",
       "      <th>cases_ICU</th>\n",
       "      <th>cases_poswk</th>\n",
       "    </tr>\n",
       "  </thead>\n",
       "  <tbody>\n",
       "    <tr>\n",
       "      <th>2015-06-29</th>\n",
       "      <td>0.00</td>\n",
       "      <td>0.0</td>\n",
       "      <td>0.00</td>\n",
       "    </tr>\n",
       "    <tr>\n",
       "      <th>2015-06-30</th>\n",
       "      <td>0.00</td>\n",
       "      <td>0.0</td>\n",
       "      <td>0.00</td>\n",
       "    </tr>\n",
       "    <tr>\n",
       "      <th>2015-07-01</th>\n",
       "      <td>0.00</td>\n",
       "      <td>0.0</td>\n",
       "      <td>0.00</td>\n",
       "    </tr>\n",
       "    <tr>\n",
       "      <th>2015-07-02</th>\n",
       "      <td>0.00</td>\n",
       "      <td>0.0</td>\n",
       "      <td>0.00</td>\n",
       "    </tr>\n",
       "    <tr>\n",
       "      <th>2015-07-03</th>\n",
       "      <td>0.00</td>\n",
       "      <td>0.0</td>\n",
       "      <td>0.00</td>\n",
       "    </tr>\n",
       "    <tr>\n",
       "      <th>...</th>\n",
       "      <td>...</td>\n",
       "      <td>...</td>\n",
       "      <td>...</td>\n",
       "    </tr>\n",
       "    <tr>\n",
       "      <th>2024-10-10</th>\n",
       "      <td>0.00</td>\n",
       "      <td>0.0</td>\n",
       "      <td>0.00</td>\n",
       "    </tr>\n",
       "    <tr>\n",
       "      <th>2024-10-11</th>\n",
       "      <td>0.00</td>\n",
       "      <td>0.0</td>\n",
       "      <td>0.00</td>\n",
       "    </tr>\n",
       "    <tr>\n",
       "      <th>2024-10-12</th>\n",
       "      <td>0.00</td>\n",
       "      <td>0.0</td>\n",
       "      <td>0.00</td>\n",
       "    </tr>\n",
       "    <tr>\n",
       "      <th>2024-10-13</th>\n",
       "      <td>0.00</td>\n",
       "      <td>0.0</td>\n",
       "      <td>0.00</td>\n",
       "    </tr>\n",
       "    <tr>\n",
       "      <th>2024-10-14</th>\n",
       "      <td>0.97</td>\n",
       "      <td>0.0</td>\n",
       "      <td>1.18</td>\n",
       "    </tr>\n",
       "  </tbody>\n",
       "</table>\n",
       "<p>3396 rows × 3 columns</p>\n",
       "</div>"
      ],
      "text/plain": [
       "            cases_hosp  cases_ICU  cases_poswk\n",
       "2015-06-29        0.00        0.0         0.00\n",
       "2015-06-30        0.00        0.0         0.00\n",
       "2015-07-01        0.00        0.0         0.00\n",
       "2015-07-02        0.00        0.0         0.00\n",
       "2015-07-03        0.00        0.0         0.00\n",
       "...                ...        ...          ...\n",
       "2024-10-10        0.00        0.0         0.00\n",
       "2024-10-11        0.00        0.0         0.00\n",
       "2024-10-12        0.00        0.0         0.00\n",
       "2024-10-13        0.00        0.0         0.00\n",
       "2024-10-14        0.97        0.0         1.18\n",
       "\n",
       "[3396 rows x 3 columns]"
      ]
     },
     "execution_count": 46,
     "metadata": {},
     "output_type": "execute_result"
    }
   ],
   "source": [
    "# translate the columns to our metrics\n",
    "metrics ={'cases_hosp': 'influenza_healthcare_hospitalAdmissionRateByWeek',\n",
    "          'cases_ICU': 'influenza_healthcare_ICUHDUadmissionRateByWeek',\n",
    "          'cases_poswk': 'influenza_testing_positivityByWeek'}\n",
    "\n",
    "for date, entry in data.items(): # each entry is a dictionary with cases, admissions and deaths\n",
    "    pd_date=parse_date(date) # convert to Pandas format\n",
    "    for column in ['cases_hosp', 'cases_ICU', 'cases_poswk']: \n",
    "        metric_name=metrics[column]\n",
    "        # do not assume all values are there for every date - if a value is not available, insert a 0.0\n",
    "        value= entry.get(metric_name, 0.0)\n",
    "        # this is the way you access a specific location in the dataframe - use .loc\n",
    "        # and put index,column in a single set of [ ]\n",
    "        timeseriesdf.loc[date, column]=value\n",
    "            \n",
    "# fill in any remaining \"holes\" due to missing dates\n",
    "timeseriesdf.fillna(0.0, inplace=True)\n",
    "            \n",
    "timeseriesdf"
   ]
  },
  {
   "cell_type": "code",
   "execution_count": 47,
   "id": "b2652fe5-ad86-48bd-a64f-cf86a69cef89",
   "metadata": {},
   "outputs": [
    {
     "data": {
      "text/html": [
       "<div>\n",
       "<style scoped>\n",
       "    .dataframe tbody tr th:only-of-type {\n",
       "        vertical-align: middle;\n",
       "    }\n",
       "\n",
       "    .dataframe tbody tr th {\n",
       "        vertical-align: top;\n",
       "    }\n",
       "\n",
       "    .dataframe thead th {\n",
       "        text-align: right;\n",
       "    }\n",
       "</style>\n",
       "<table border=\"1\" class=\"dataframe\">\n",
       "  <thead>\n",
       "    <tr style=\"text-align: right;\">\n",
       "      <th></th>\n",
       "      <th>index</th>\n",
       "      <th>cases_hosp</th>\n",
       "      <th>cases_ICU</th>\n",
       "      <th>cases_poswk</th>\n",
       "    </tr>\n",
       "  </thead>\n",
       "  <tbody>\n",
       "    <tr>\n",
       "      <th>0</th>\n",
       "      <td>2015-06-29</td>\n",
       "      <td>0.00</td>\n",
       "      <td>0.0</td>\n",
       "      <td>0.00</td>\n",
       "    </tr>\n",
       "    <tr>\n",
       "      <th>1</th>\n",
       "      <td>2015-06-30</td>\n",
       "      <td>0.00</td>\n",
       "      <td>0.0</td>\n",
       "      <td>0.00</td>\n",
       "    </tr>\n",
       "    <tr>\n",
       "      <th>2</th>\n",
       "      <td>2015-07-01</td>\n",
       "      <td>0.00</td>\n",
       "      <td>0.0</td>\n",
       "      <td>0.00</td>\n",
       "    </tr>\n",
       "    <tr>\n",
       "      <th>3</th>\n",
       "      <td>2015-07-02</td>\n",
       "      <td>0.00</td>\n",
       "      <td>0.0</td>\n",
       "      <td>0.00</td>\n",
       "    </tr>\n",
       "    <tr>\n",
       "      <th>4</th>\n",
       "      <td>2015-07-03</td>\n",
       "      <td>0.00</td>\n",
       "      <td>0.0</td>\n",
       "      <td>0.00</td>\n",
       "    </tr>\n",
       "    <tr>\n",
       "      <th>...</th>\n",
       "      <td>...</td>\n",
       "      <td>...</td>\n",
       "      <td>...</td>\n",
       "      <td>...</td>\n",
       "    </tr>\n",
       "    <tr>\n",
       "      <th>3391</th>\n",
       "      <td>2024-10-10</td>\n",
       "      <td>0.00</td>\n",
       "      <td>0.0</td>\n",
       "      <td>0.00</td>\n",
       "    </tr>\n",
       "    <tr>\n",
       "      <th>3392</th>\n",
       "      <td>2024-10-11</td>\n",
       "      <td>0.00</td>\n",
       "      <td>0.0</td>\n",
       "      <td>0.00</td>\n",
       "    </tr>\n",
       "    <tr>\n",
       "      <th>3393</th>\n",
       "      <td>2024-10-12</td>\n",
       "      <td>0.00</td>\n",
       "      <td>0.0</td>\n",
       "      <td>0.00</td>\n",
       "    </tr>\n",
       "    <tr>\n",
       "      <th>3394</th>\n",
       "      <td>2024-10-13</td>\n",
       "      <td>0.00</td>\n",
       "      <td>0.0</td>\n",
       "      <td>0.00</td>\n",
       "    </tr>\n",
       "    <tr>\n",
       "      <th>3395</th>\n",
       "      <td>2024-10-14</td>\n",
       "      <td>0.97</td>\n",
       "      <td>0.0</td>\n",
       "      <td>1.18</td>\n",
       "    </tr>\n",
       "  </tbody>\n",
       "</table>\n",
       "<p>3396 rows × 4 columns</p>\n",
       "</div>"
      ],
      "text/plain": [
       "          index  cases_hosp  cases_ICU  cases_poswk\n",
       "0    2015-06-29        0.00        0.0         0.00\n",
       "1    2015-06-30        0.00        0.0         0.00\n",
       "2    2015-07-01        0.00        0.0         0.00\n",
       "3    2015-07-02        0.00        0.0         0.00\n",
       "4    2015-07-03        0.00        0.0         0.00\n",
       "...         ...         ...        ...          ...\n",
       "3391 2024-10-10        0.00        0.0         0.00\n",
       "3392 2024-10-11        0.00        0.0         0.00\n",
       "3393 2024-10-12        0.00        0.0         0.00\n",
       "3394 2024-10-13        0.00        0.0         0.00\n",
       "3395 2024-10-14        0.97        0.0         1.18\n",
       "\n",
       "[3396 rows x 4 columns]"
      ]
     },
     "execution_count": 47,
     "metadata": {},
     "output_type": "execute_result"
    }
   ],
   "source": [
    "newdf = timeseriesdf.reset_index()\n",
    "#newd['index'].sum()\n",
    "\n",
    "newdf"
   ]
  },
  {
   "cell_type": "code",
   "execution_count": 48,
   "id": "2217d8ee-d2ac-4fed-8a46-d4cab3cfe67e",
   "metadata": {},
   "outputs": [
    {
     "name": "stdout",
     "output_type": "stream",
     "text": [
      "483.61 28.42 1610.46\n"
     ]
    }
   ],
   "source": [
    "newdf_hosp = newdf['cases_hosp'].sum()\n",
    "newdf_ICU = newdf['cases_ICU'].sum()\n",
    "newdf_poswk = newdf['cases_poswk'].sum()\n",
    "\n",
    "print(newdf_hosp, newdf_ICU, newdf_poswk)\n",
    "\n"
   ]
  },
  {
   "cell_type": "code",
   "execution_count": 49,
   "id": "13e27563-314d-4c83-ad23-53ce3d9f20b9",
   "metadata": {},
   "outputs": [
    {
     "data": {
      "image/png": "[encoded data removed]",
      "text/plain": [
       "<Figure size 640x480 with 1 Axes>"
      ]
     },
     "metadata": {},
     "output_type": "display_data"
    }
   ],
   "source": [
    "\n",
    "\n",
    "import matplotlib.pyplot as plt\n",
    "# if using a Jupyter notebook, include:\n",
    "%matplotlib inline\n",
    "\n",
    "sizes = [newdf_hosp, newdf_ICU, newdf_poswk]\n",
    "labels = 'Hospitalizations', 'ICU Admissions', 'Positive tests'\n",
    "\n",
    "\n",
    "plt.pie(sizes,\n",
    "       labels = labels)\n",
    "\n",
    "\n",
    "plt.title('Influenza cases by type')\n",
    "plt.axis('equal')\n",
    "\n",
    "\n",
    "plt.show()\n",
    "\n"
   ]
  },
  {
   "cell_type": "code",
   "execution_count": 50,
   "id": "67f8c602-7eaa-4899-8142-be19e45e37ef",
   "metadata": {},
   "outputs": [
    {
     "data": {
      "image/png": "[encoded data removed]",
      "text/plain": [
       "<Figure size 640x480 with 1 Axes>"
      ]
     },
     "metadata": {},
     "output_type": "display_data"
    }
   ],
   "source": [
    "ax=timeseriesdf.plot(logy=True) # ...lemon squeezy\n",
    "ax.set_title('Daily cases, hospital admissions and deaths (log scale)');"
   ]
  },
  {
   "cell_type": "code",
   "execution_count": 52,
   "id": "1b63c3a9-9376-4d4b-bf15-6039462d3aa5",
   "metadata": {},
   "outputs": [],
   "source": [
    "# ax = timeseriesdf.plot(kind='hist', bins=30)"
   ]
  },
  {
   "cell_type": "code",
   "execution_count": 53,
   "id": "9251fa71-9b57-4c5a-b9ae-c838a28f26b6",
   "metadata": {},
   "outputs": [],
   "source": [
    "# ax = timeseriesdf.hist(bins=30)"
   ]
  },
  {
   "cell_type": "code",
   "execution_count": 54,
   "id": "6f468d2e-da75-425a-a423-ab387edc977b",
   "metadata": {},
   "outputs": [
    {
     "data": {
      "image/png": "[encoded data removed]",
      "text/plain": [
       "<Figure size 640x480 with 4 Axes>"
      ]
     },
     "metadata": {},
     "output_type": "display_data"
    }
   ],
   "source": [
    "ax = timeseriesdf.hist(bins=30,log=True)"
   ]
  },
  {
   "cell_type": "code",
   "execution_count": 55,
   "id": "cdcae224-644c-4548-95ad-eecd125cc7a9",
   "metadata": {},
   "outputs": [],
   "source": [
    "# ax = timeseriesdf.plot(kind='bar')"
   ]
  },
  {
   "cell_type": "code",
   "execution_count": 56,
   "id": "b375cedf-4d3d-4680-9fcf-b778dc48a21e",
   "metadata": {},
   "outputs": [],
   "source": [
    "from IPython.display import clear_output\n",
    "import ipywidgets as wdg\n",
    "import pandas as pd\n",
    "import matplotlib.pyplot as plt"
   ]
  },
  {
   "cell_type": "code",
   "execution_count": 57,
   "id": "8a5ab7ed-ee22-43d6-a36b-e293d883c690",
   "metadata": {},
   "outputs": [],
   "source": [
    "%matplotlib inline\n",
    "# make figures larger\n",
    "plt.rcParams['figure.dpi'] = 100\n"
   ]
  },
  {
   "cell_type": "code",
   "execution_count": 58,
   "id": "7f9cb321-4ab8-4012-a2b3-fc44fd1957e9",
   "metadata": {},
   "outputs": [
    {
     "data": {
      "application/vnd.jupyter.widget-view+json": {
       "model_id": "e032f62ad8ab4c69a33e99aae0c069ae",
       "version_major": 2,
       "version_minor": 0
      },
      "text/plain": [
       "Button(description='Refresh data', icon='download', style=ButtonStyle(), tooltip='Click to download current Pu…"
      ]
     },
     "metadata": {},
     "output_type": "display_data"
    }
   ],
   "source": [
    "# our API access function. This will be called by the button when it is clicked\n",
    "def access_api(button):\n",
    "    # Ignore the button parameter\n",
    "    #\n",
    "    # put code for polling the API here\n",
    "    #\n",
    "    # after all is done, you can switch the icon on the button to a \"check\" sign\n",
    "    # and optionally disable the button - it won't be needed again.\n",
    "    apibutton.icon=\"check\"\n",
    "    apibutton.disabled=True\n",
    "\n",
    "# see the doc for the parameters    \n",
    "apibutton=wdg.Button(\n",
    "    description='Refresh data',\n",
    "    disabled=False,\n",
    "    button_style='', # 'success', 'info', 'warning', 'danger' or ''\n",
    "    tooltip='Click to download current Public Health England data',\n",
    "    icon='download' # (FontAwesome names without the `fa-` prefix)\n",
    ")\n",
    "\n",
    "# register the callback function with the button\n",
    "apibutton.on_click(access_api)\n",
    "\n",
    "# this is an iPython function that generalises print for Jupyter Notebooks; we use it to \n",
    "# display the widgets\n",
    "display(apibutton)"
   ]
  },
  {
   "cell_type": "code",
   "execution_count": 59,
   "id": "d9f7c8e0-73cf-48c7-80de-2626e514c340",
   "metadata": {},
   "outputs": [],
   "source": [
    "timeseriesdf.to_pickle(\"timeseriesdf.pkl\")"
   ]
  },
  {
   "cell_type": "code",
   "execution_count": 60,
   "id": "2871a2cc-a7e9-41aa-a856-e617c4a5046f",
   "metadata": {},
   "outputs": [],
   "source": [
    "# in the dashboard, this should be computed from the json files\n",
    "timeseriesdf=pd.read_pickle(\"timeseriesdf.pkl\")"
   ]
  },
  {
   "cell_type": "code",
   "execution_count": 61,
   "id": "b36f3248-625d-423b-b7dc-15621c04a5f3",
   "metadata": {},
   "outputs": [
    {
     "data": {
      "application/vnd.jupyter.widget-view+json": {
       "model_id": "d22d8ea34df540a68575f5ac2f1d1297",
       "version_major": 2,
       "version_minor": 0
      },
      "text/plain": [
       "Select(description='Year', index=9, options=(2015, 2016, 2017, 2018, 2019, 2020, 2021, 2022, 2023, 2024), rows…"
      ]
     },
     "metadata": {},
     "output_type": "display_data"
    },
    {
     "data": {
      "application/vnd.jupyter.widget-view+json": {
       "model_id": "e2afbbb882a44e239e0257840a92a43d",
       "version_major": 2,
       "version_minor": 0
      },
      "text/plain": [
       "Output()"
      ]
     },
     "metadata": {},
     "output_type": "display_data"
    },
    {
     "data": {
      "image/png": "[encoded data removed]",
      "text/plain": [
       "<Figure size 640x480 with 1 Axes>"
      ]
     },
     "metadata": {},
     "output_type": "display_data"
    }
   ],
   "source": [
    "year=wdg.Select(\n",
    "    # options available: unique years in the dataframe\n",
    "    options=timeseriesdf.index.year.unique(), # options available\n",
    "    value=timeseriesdf.index.year[-1], # initial value: most recent year\n",
    "    rows=1, # rows of the selection box\n",
    "    description='Year',\n",
    "    disabled=False\n",
    ")\n",
    "\n",
    "def lineage_graph(graphyear):\n",
    "    # our callback function.\n",
    "    yeardf=timeseriesdf[timeseriesdf.index.year==graphyear]\n",
    "    # average the rows by month\n",
    "    monthly= yeardf.groupby(pd.Grouper(freq='1ME')).mean() \n",
    "    totals=monthly.sum(axis=1) # over the rows\n",
    "    # make sure it's all normalised to 100\n",
    "    monthly=monthly.div(totals, axis=0)*100\n",
    "    # older dates on top of the graph\n",
    "    monthly = monthly[::-1]\n",
    "    ax=monthly.plot(kind='barh', stacked=True,cmap='tab20')\n",
    "    ax.legend(loc='center left',bbox_to_anchor=(1.0, 0.5))\n",
    "    ax.set_yticklabels(monthly.index.strftime('%Y-%m-%d'))\n",
    "\n",
    "output=wdg.interactive_output(lineage_graph, {'graphyear': year})\n",
    "\n",
    "display(year, output)"
   ]
  },
  {
   "cell_type": "code",
   "execution_count": 62,
   "id": "75392ad8-616b-4aff-949f-0f7df6b62617",
   "metadata": {},
   "outputs": [
    {
     "data": {
      "application/vnd.jupyter.widget-view+json": {
       "model_id": "d7c20fc4f9e447a1843a650f63626b48",
       "version_major": 2,
       "version_minor": 0
      },
      "text/plain": [
       "HBox(children=(SelectMultiple(description='Stats:', index=(0, 1, 2), options=('cases_hosp', 'cases_ICU', 'case…"
      ]
     },
     "metadata": {},
     "output_type": "display_data"
    },
    {
     "data": {
      "application/vnd.jupyter.widget-view+json": {
       "model_id": "f4bd2de79c78406798c24c3e5e8aacc8",
       "version_major": 2,
       "version_minor": 0
      },
      "text/plain": [
       "Output()"
      ]
     },
     "metadata": {},
     "output_type": "display_data"
    }
   ],
   "source": [
    "series=wdg.SelectMultiple(\n",
    "    options=['cases_hosp', 'cases_ICU', 'cases_poswk'],\n",
    "    value=['cases_hosp', 'cases_ICU', 'cases_poswk'],\n",
    "    rows=3,\n",
    "    description='Stats:',\n",
    "    disabled=False\n",
    ")\n",
    "\n",
    "scale=wdg.RadioButtons(\n",
    "    options=['linear', 'log'],\n",
    "#   value='pineapple', # Defaults to 'pineapple'\n",
    "#   layout={'width': 'max-content'}, # If the items' names are long\n",
    "    description='Scale:',\n",
    "    disabled=False\n",
    ")\n",
    "\n",
    "# try replacing HBox with a VBox\n",
    "controls=wdg.HBox([series, scale])\n",
    "\n",
    "def timeseries_graph(gcols, gscale):\n",
    "    if gscale=='linear':\n",
    "        logscale=False\n",
    "    else:\n",
    "        logscale=True\n",
    "    ncols=len(gcols)\n",
    "    if ncols>0:\n",
    "        timeseriesdf[list(gcols)].plot(logy=logscale)\n",
    "        plt.show() # important - graphs won't update if this is missing \n",
    "    else:\n",
    "        print(\"Click to select data for graph\")\n",
    "        print(\"(CTRL-Click to select more than one category)\")\n",
    "\n",
    "# keep calling timeseries_graph(gcols=value_of_series, gscale=value_of_scale); \n",
    "# capture output in widget graph   \n",
    "graph=wdg.interactive_output(timeseries_graph, {'gcols': series, 'gscale': scale})\n",
    "\n",
    "display(controls, graph)"
   ]
  },
  {
   "cell_type": "code",
   "execution_count": null,
   "id": "7eb29b2b-942b-44b0-b714-970545c79d45",
   "metadata": {},
   "outputs": [],
   "source": []
  },
  {
   "cell_type": "code",
   "execution_count": null,
   "id": "e1c17567-64c6-4d42-8e33-7e4d2aa72ade",
   "metadata": {},
   "outputs": [],
   "source": []
  },
  {
   "cell_type": "code",
   "execution_count": null,
   "id": "c020b1f4-0627-4c44-bcfb-96d1d21d0862",
   "metadata": {},
   "outputs": [],
   "source": []
  }
 ],
 "metadata": {
  "kernelspec": {
   "display_name": "Python 3 (ipykernel)",
   "language": "python",
   "name": "python3"
  },
  "language_info": {
   "codemirror_mode": {
    "name": "ipython",
    "version": 3
   },
   "file_extension": ".py",
   "mimetype": "text/x-python",
   "name": "python",
   "nbconvert_exporter": "python",
   "pygments_lexer": "ipython3",
   "version": "3.11.9"
  }
 },
 "nbformat": 4,
 "nbformat_minor": 5
}
